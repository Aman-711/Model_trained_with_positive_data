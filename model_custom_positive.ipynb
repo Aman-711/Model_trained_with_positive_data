{
 "cells": [
  {
   "cell_type": "code",
   "execution_count": 1,
   "metadata": {},
   "outputs": [
    {
     "data": {
      "text/plain": [
       "(             event_name            tweet_id              image_id  \\\n",
       " 0  california_wildfires  917791291823591425  917791291823591425_0   \n",
       " 1  california_wildfires  917791291823591425  917791291823591425_1   \n",
       " 2  california_wildfires  917793137925459968  917793137925459968_0   \n",
       " 3  california_wildfires  917793137925459968  917793137925459968_1   \n",
       " 4  california_wildfires  917793137925459968  917793137925459968_2   \n",
       " \n",
       "                                           tweet_text  \\\n",
       " 0  RT @Cal_OES: PLS SHARE: Weâ€™re capturing wild...   \n",
       " 1  RT @Cal_OES: PLS SHARE: Weâ€™re capturing wild...   \n",
       " 2  RT @KAKEnews: California wildfires destroy mor...   \n",
       " 3  RT @KAKEnews: California wildfires destroy mor...   \n",
       " 4  RT @KAKEnews: California wildfires destroy mor...   \n",
       " \n",
       "                                                image            label  \\\n",
       " 0  data_image/california_wildfires/10_10_2017/917...      informative   \n",
       " 1  data_image/california_wildfires/10_10_2017/917...  not_informative   \n",
       " 2  data_image/california_wildfires/10_10_2017/917...      informative   \n",
       " 3  data_image/california_wildfires/10_10_2017/917...      informative   \n",
       " 4  data_image/california_wildfires/10_10_2017/917...      informative   \n",
       " \n",
       "     label_text      label_image label_text_image  \n",
       " 0  informative      informative         Positive  \n",
       " 1  informative  not_informative         Negative  \n",
       " 2  informative      informative         Positive  \n",
       " 3  informative      informative         Positive  \n",
       " 4  informative      informative         Positive  ,\n",
       "              event_name            tweet_id              image_id  \\\n",
       " 0  iraq_iran_earthquake  931465546129989632  931465546129989632_0   \n",
       " 1      hurricane_harvey  905064623199719425  905064623199719425_0   \n",
       " 2       hurricane_maria  922857566220283904  922857566220283904_0   \n",
       " 3        hurricane_irma  909767231411769344  909767231411769344_0   \n",
       " 4  california_wildfires  920571592131915777  920571592131915777_0   \n",
       " \n",
       "                                           tweet_text  \\\n",
       " 0  #Iran #earthquake damage put at over 5bn pound...   \n",
       " 1  We've lost track of how many houses/families @...   \n",
       " 2  The gym above subway got destroyed. The cement...   \n",
       " 3  Famous Captive Orca Fends For Herself In Flori...   \n",
       " 4  Californiaâ€™s Sausalito Fire In Marin Capture...   \n",
       " \n",
       "                                                image            label  \\\n",
       " 0  data_image/iraq_iran_earthquake/17_11_2017/931...  not_informative   \n",
       " 1  data_image/hurricane_harvey/5_9_2017/905064623...      informative   \n",
       " 2  data_image/hurricane_maria/24_10_2017/92285756...      informative   \n",
       " 3  data_image/hurricane_irma/18_9_2017/9097672314...      informative   \n",
       " 4  data_image/california_wildfires/18_10_2017/920...      informative   \n",
       " \n",
       "     label_text      label_image label_text_image  \n",
       " 0  informative  not_informative         Negative  \n",
       " 1  informative      informative         Positive  \n",
       " 2  informative      informative         Positive  \n",
       " 3  informative  not_informative         Negative  \n",
       " 4  informative      informative         Positive  ,\n",
       "          event_name            tweet_id              image_id  \\\n",
       " 0   srilanka_floods  878185882431389696  878185882431389696_0   \n",
       " 1  hurricane_harvey  906258753707790336  906258753707790336_0   \n",
       " 2   hurricane_maria  910542719864397824  910542719864397824_0   \n",
       " 3  hurricane_harvey  906219963152785408  906219963152785408_0   \n",
       " 4   hurricane_maria  913009824195104768  913009824195104768_0   \n",
       " \n",
       "                                           tweet_text  \\\n",
       " 0  Cristofer CLEMENTE MORA now in 2nd at aguille ...   \n",
       " 1  RT @THS_College: On our way to Warrior Restora...   \n",
       " 2  Hurricane Maria batters Puerto Rico as a Cat 4...   \n",
       " 3  ZZ Top Donating ‘La Grange’ Download Sales To ...   \n",
       " 4  8am #Maria update: holding steady as a strong ...   \n",
       " \n",
       "                                                image            label  \\\n",
       " 0  data_image/srilanka_floods/23_6_2017/878185882...  not_informative   \n",
       " 1  data_image/hurricane_harvey/8_9_2017/906258753...  not_informative   \n",
       " 2  data_image/hurricane_maria/20_9_2017/910542719...      informative   \n",
       " 3  data_image/hurricane_harvey/8_9_2017/906219963...      informative   \n",
       " 4  data_image/hurricane_maria/27_9_2017/913009824...      informative   \n",
       " \n",
       "         label_text      label_image label_text_image  \n",
       " 0  not_informative  not_informative         Positive  \n",
       " 1      informative  not_informative         Negative  \n",
       " 2      informative      informative         Positive  \n",
       " 3      informative  not_informative         Negative  \n",
       " 4      informative      informative         Positive  )"
      ]
     },
     "execution_count": 1,
     "metadata": {},
     "output_type": "execute_result"
    }
   ],
   "source": [
    "import pandas as pd\n",
    "\n",
    "# Load the datasets\n",
    "train_file_path = 'crisismmd_datasplit_all/crisismmd_datasplit_all/task_informative_text_img_train.tsv'\n",
    "dev_file_path = 'crisismmd_datasplit_all/crisismmd_datasplit_all/task_informative_text_img_dev.tsv'\n",
    "test_file_path = 'crisismmd_datasplit_all/crisismmd_datasplit_all/task_informative_text_img_test.tsv'\n",
    "\n",
    "# Load TSV files into DataFrames\n",
    "train_data = pd.read_csv(train_file_path, sep='\\t')\n",
    "dev_data = pd.read_csv(dev_file_path, sep='\\t')\n",
    "test_data = pd.read_csv(test_file_path, sep='\\t')\n",
    "\n",
    "# Display the first few rows of each dataset\n",
    "train_data.head(), dev_data.head(), test_data.head()"
   ]
  },
  {
   "cell_type": "code",
   "execution_count": 10,
   "metadata": {},
   "outputs": [
    {
     "name": "stderr",
     "output_type": "stream",
     "text": [
      "Some weights of ViTModel were not initialized from the model checkpoint at D:/BTP_2/CrisisMMD_v2.0/model_image and are newly initialized: ['vit.pooler.dense.bias', 'vit.pooler.dense.weight']\n",
      "You should probably TRAIN this model on a down-stream task to be able to use it for predictions and inference.\n",
      "c:\\Users\\Aman\\AppData\\Local\\Programs\\Python\\Python312\\Lib\\site-packages\\transformers\\models\\vit\\feature_extraction_vit.py:28: FutureWarning: The class ViTFeatureExtractor is deprecated and will be removed in version 5 of Transformers. Please use ViTImageProcessor instead.\n",
      "  warnings.warn(\n",
      "c:\\Users\\Aman\\AppData\\Local\\Programs\\Python\\Python312\\Lib\\site-packages\\PIL\\Image.py:1056: UserWarning: Palette images with Transparency expressed in bytes should be converted to RGBA images\n",
      "  warnings.warn(\n"
     ]
    },
    {
     "name": "stdout",
     "output_type": "stream",
     "text": [
      "Epoch 1/10, Training Loss: 36.5002, Training Accuracy: 0.9820\n",
      "Epoch 1/10, Validation Accuracy: 0.8659\n"
     ]
    },
    {
     "name": "stderr",
     "output_type": "stream",
     "text": [
      "c:\\Users\\Aman\\AppData\\Local\\Programs\\Python\\Python312\\Lib\\site-packages\\PIL\\Image.py:1056: UserWarning: Palette images with Transparency expressed in bytes should be converted to RGBA images\n",
      "  warnings.warn(\n"
     ]
    },
    {
     "name": "stdout",
     "output_type": "stream",
     "text": [
      "Epoch 2/10, Training Loss: 4.1609, Training Accuracy: 0.9964\n",
      "Epoch 2/10, Validation Accuracy: 0.8703\n"
     ]
    },
    {
     "name": "stderr",
     "output_type": "stream",
     "text": [
      "c:\\Users\\Aman\\AppData\\Local\\Programs\\Python\\Python312\\Lib\\site-packages\\PIL\\Image.py:1056: UserWarning: Palette images with Transparency expressed in bytes should be converted to RGBA images\n",
      "  warnings.warn(\n"
     ]
    },
    {
     "name": "stdout",
     "output_type": "stream",
     "text": [
      "Epoch 3/10, Training Loss: 2.3374, Training Accuracy: 0.9973\n",
      "Epoch 3/10, Validation Accuracy: 0.8729\n"
     ]
    },
    {
     "name": "stderr",
     "output_type": "stream",
     "text": [
      "c:\\Users\\Aman\\AppData\\Local\\Programs\\Python\\Python312\\Lib\\site-packages\\PIL\\Image.py:1056: UserWarning: Palette images with Transparency expressed in bytes should be converted to RGBA images\n",
      "  warnings.warn(\n"
     ]
    },
    {
     "name": "stdout",
     "output_type": "stream",
     "text": [
      "Epoch 4/10, Training Loss: 1.4754, Training Accuracy: 0.9983\n",
      "Epoch 4/10, Validation Accuracy: 0.8779\n"
     ]
    },
    {
     "name": "stderr",
     "output_type": "stream",
     "text": [
      "c:\\Users\\Aman\\AppData\\Local\\Programs\\Python\\Python312\\Lib\\site-packages\\PIL\\Image.py:1056: UserWarning: Palette images with Transparency expressed in bytes should be converted to RGBA images\n",
      "  warnings.warn(\n"
     ]
    },
    {
     "name": "stdout",
     "output_type": "stream",
     "text": [
      "Epoch 5/10, Training Loss: 0.9559, Training Accuracy: 0.9993\n",
      "Epoch 5/10, Validation Accuracy: 0.8856\n"
     ]
    },
    {
     "name": "stderr",
     "output_type": "stream",
     "text": [
      "c:\\Users\\Aman\\AppData\\Local\\Programs\\Python\\Python312\\Lib\\site-packages\\PIL\\Image.py:1056: UserWarning: Palette images with Transparency expressed in bytes should be converted to RGBA images\n",
      "  warnings.warn(\n"
     ]
    },
    {
     "name": "stdout",
     "output_type": "stream",
     "text": [
      "Epoch 6/10, Training Loss: 0.7540, Training Accuracy: 0.9995\n",
      "Epoch 6/10, Validation Accuracy: 0.8894\n"
     ]
    },
    {
     "name": "stderr",
     "output_type": "stream",
     "text": [
      "c:\\Users\\Aman\\AppData\\Local\\Programs\\Python\\Python312\\Lib\\site-packages\\PIL\\Image.py:1056: UserWarning: Palette images with Transparency expressed in bytes should be converted to RGBA images\n",
      "  warnings.warn(\n"
     ]
    },
    {
     "name": "stdout",
     "output_type": "stream",
     "text": [
      "Epoch 7/10, Training Loss: 0.5317, Training Accuracy: 0.9999\n",
      "Epoch 7/10, Validation Accuracy: 0.8932\n"
     ]
    },
    {
     "name": "stderr",
     "output_type": "stream",
     "text": [
      "c:\\Users\\Aman\\AppData\\Local\\Programs\\Python\\Python312\\Lib\\site-packages\\PIL\\Image.py:1056: UserWarning: Palette images with Transparency expressed in bytes should be converted to RGBA images\n",
      "  warnings.warn(\n"
     ]
    },
    {
     "name": "stdout",
     "output_type": "stream",
     "text": [
      "Epoch 8/10, Training Loss: 0.3972, Training Accuracy: 1.0000\n",
      "Epoch 8/10, Validation Accuracy: 0.8932\n"
     ]
    },
    {
     "name": "stderr",
     "output_type": "stream",
     "text": [
      "c:\\Users\\Aman\\AppData\\Local\\Programs\\Python\\Python312\\Lib\\site-packages\\PIL\\Image.py:1056: UserWarning: Palette images with Transparency expressed in bytes should be converted to RGBA images\n",
      "  warnings.warn(\n"
     ]
    },
    {
     "name": "stdout",
     "output_type": "stream",
     "text": [
      "Epoch 9/10, Training Loss: 0.3555, Training Accuracy: 0.9999\n",
      "Epoch 9/10, Validation Accuracy: 0.8951\n"
     ]
    },
    {
     "name": "stderr",
     "output_type": "stream",
     "text": [
      "c:\\Users\\Aman\\AppData\\Local\\Programs\\Python\\Python312\\Lib\\site-packages\\PIL\\Image.py:1056: UserWarning: Palette images with Transparency expressed in bytes should be converted to RGBA images\n",
      "  warnings.warn(\n"
     ]
    },
    {
     "name": "stdout",
     "output_type": "stream",
     "text": [
      "Epoch 10/10, Training Loss: 0.3041, Training Accuracy: 0.9998\n",
      "Epoch 10/10, Validation Accuracy: 0.8951\n"
     ]
    },
    {
     "data": {
      "image/png": "[encoded data removed]",
      "text/plain": [
       "<Figure size 800x600 with 1 Axes>"
      ]
     },
     "metadata": {},
     "output_type": "display_data"
    }
   ],
   "source": [
    "import pandas as pd\n",
    "from transformers import AutoModel, AutoTokenizer, AutoFeatureExtractor\n",
    "import torch\n",
    "import torch.nn as nn\n",
    "from torch.utils.data import DataLoader\n",
    "import os\n",
    "from sklearn.metrics import accuracy_score\n",
    "import matplotlib.pyplot as plt\n",
    "from PIL import Image\n",
    "\n",
    "# Device configuration\n",
    "device = torch.device(\"cuda\" if torch.cuda.is_available() else \"cpu\")\n",
    "\n",
    "# Load saved models and processors\n",
    "text_model_path = \"D:/BTP_2/CrisisMMD_v2.0/model_text\"\n",
    "image_model_path = \"D:/BTP_2/CrisisMMD_v2.0/model_image\"\n",
    "\n",
    "# Load the saved text model and tokenizer\n",
    "modeltext = AutoModel.from_pretrained(text_model_path)\n",
    "tokenizer = AutoTokenizer.from_pretrained(text_model_path)\n",
    "\n",
    "# Load the saved image model and feature extractor\n",
    "modelimage = AutoModel.from_pretrained(image_model_path)\n",
    "feature_extractor = AutoFeatureExtractor.from_pretrained(image_model_path)\n",
    "\n",
    "# Remove the last layers from modelimage and modeltext\n",
    "modelimage.classifier = nn.Identity()  # Remove the classification layer of modelimage\n",
    "modeltext.pooler = nn.Identity()  # Remove the pooler layer from modeltext (if exists)\n",
    "\n",
    "# Freeze the parameters of modelimage and modeltext\n",
    "for param in modelimage.parameters():\n",
    "    param.requires_grad = False\n",
    "\n",
    "for param in modeltext.parameters():\n",
    "    param.requires_grad = False\n",
    "\n",
    "# Define the combined model\n",
    "class MultimodalClassifier(nn.Module):\n",
    "    def __init__(self, text_model, image_model, hidden_size=512):\n",
    "        super(MultimodalClassifier, self).__init__()\n",
    "        self.text_model = text_model\n",
    "        self.image_model = image_model\n",
    "        \n",
    "        # Fully connected layer for combining text and image features\n",
    "        self.fc = nn.Sequential(\n",
    "            nn.Linear(768 + 768, hidden_size),  # Combine text and image features\n",
    "            nn.ReLU(),\n",
    "            nn.Dropout(0.3),\n",
    "            nn.Linear(hidden_size, 2)  # Final output layer for 2 classes (Positive/Negative)\n",
    "        )\n",
    "\n",
    "    def forward(self, input_ids, attention_mask, pixel_values):\n",
    "        with torch.no_grad():  # Freeze the weights of pretrained models\n",
    "            # Extract text embeddings (using the CLS token from last_hidden_state)\n",
    "            text_outputs = self.text_model(input_ids=input_ids, attention_mask=attention_mask)\n",
    "            text_features = text_outputs.last_hidden_state[:, 0, :]  # CLS token\n",
    "            \n",
    "            # Extract image embeddings (CLS token or alternative feature)\n",
    "            image_outputs = self.image_model(pixel_values=pixel_values)\n",
    "            image_features = image_outputs.last_hidden_state[:, 0, :]  # CLS token\n",
    "        \n",
    "        # Concatenate features\n",
    "        combined_features = torch.cat((text_features, image_features), dim=1)\n",
    "        # Pass through fully connected layer\n",
    "        output = self.fc(combined_features)\n",
    "        return output\n",
    "\n",
    "# Initialize the combined model\n",
    "model = MultimodalClassifier(text_model=modeltext, image_model=modelimage).to(device)\n",
    "\n",
    "# Define loss and optimizer\n",
    "criterion = nn.CrossEntropyLoss()\n",
    "optimizer = torch.optim.AdamW(model.fc.parameters(), lr=1e-5, weight_decay=0.01)\n",
    "\n",
    "# Dataset class\n",
    "class MultimodalDataset(torch.utils.data.Dataset):\n",
    "    def __init__(self, data, tokenizer, feature_extractor, image_dir):\n",
    "        self.data = data\n",
    "        self.tokenizer = tokenizer\n",
    "        self.feature_extractor = feature_extractor\n",
    "        self.image_dir = image_dir\n",
    "\n",
    "    def __len__(self):\n",
    "        return len(self.data)\n",
    "\n",
    "    def __getitem__(self, idx):\n",
    "        tweet_text = self.data.iloc[idx]['tweet_text']\n",
    "        image_path = os.path.join(self.image_dir, self.data.iloc[idx]['image'])\n",
    "        label = self.data.iloc[idx]['label']  \n",
    "\n",
    "        # Tokenize text\n",
    "        text_inputs = self.tokenizer(\n",
    "            tweet_text,\n",
    "            truncation=True,\n",
    "            padding=\"max_length\",\n",
    "            max_length=128,\n",
    "            return_tensors=\"pt\"\n",
    "        )\n",
    "\n",
    "        # Open and process the image\n",
    "        image = Image.open(image_path).convert(\"RGB\")\n",
    "        image_inputs = self.feature_extractor(\n",
    "            images=image,\n",
    "            return_tensors=\"pt\"\n",
    "        )\n",
    "\n",
    "        return {\n",
    "            \"input_ids\": text_inputs[\"input_ids\"].squeeze(0),\n",
    "            \"attention_mask\": text_inputs[\"attention_mask\"].squeeze(0),\n",
    "            \"pixel_values\": image_inputs[\"pixel_values\"].squeeze(0),\n",
    "            \"label\": torch.tensor(1 if label == 'informative' else 0, dtype=torch.long)\n",
    "        }\n",
    "\n",
    "# Load the TSV file\n",
    "train_data = pd.read_csv('crisismmd_datasplit_all/crisismmd_datasplit_all/task_informative_text_img_train.tsv', delimiter='\\t')\n",
    "\n",
    "# Filter the data where label_text_image is Positive\n",
    "train_data = train_data[train_data['label_text_image'] == 'Positive']\n",
    "\n",
    "# Select only the relevant columns\n",
    "train_data = train_data[['tweet_text', 'image', 'label']]\n",
    "\n",
    "# Specify image directory\n",
    "image_dir = ''  # Path to your image directory (make sure to specify this)\n",
    "\n",
    "# Create dataset and dataloader\n",
    "dataset = MultimodalDataset(train_data, tokenizer, feature_extractor, image_dir)\n",
    "train_dataloader = DataLoader(dataset, batch_size=32, shuffle=True)\n",
    "\n",
    "# Validation Dataset\n",
    "validation_data = pd.read_csv('crisismmd_datasplit_all/crisismmd_datasplit_all/task_informative_text_img_dev.tsv', delimiter='\\t')\n",
    "\n",
    "# Filter the data where label_text_image is Positive\n",
    "validation_data = validation_data[validation_data['label_text_image'] == 'Positive']\n",
    "\n",
    "# Select only the relevant columns\n",
    "validation_data = validation_data[['tweet_text', 'image', 'label']]\n",
    "\n",
    "# Create validation dataset and dataloader\n",
    "validation_dataset = MultimodalDataset(validation_data, tokenizer, feature_extractor, image_dir)\n",
    "validation_dataloader = DataLoader(validation_dataset, batch_size=32, shuffle=False)\n",
    "\n",
    "# Training loop with validation\n",
    "num_epochs = 10  # Define number of epochs\n",
    "epoch_accuracies = []\n",
    "validation_accuracies = []\n",
    "\n",
    "for epoch in range(num_epochs):\n",
    "    # Training phase\n",
    "    model.train()\n",
    "    total_loss = 0\n",
    "    all_preds = []\n",
    "    all_labels = []\n",
    "\n",
    "    for batch in train_dataloader:\n",
    "        input_ids = batch[\"input_ids\"].to(device)\n",
    "        attention_mask = batch[\"attention_mask\"].to(device)\n",
    "        pixel_values = batch[\"pixel_values\"].to(device)\n",
    "        labels = batch[\"label\"].to(device)\n",
    "\n",
    "        optimizer.zero_grad()\n",
    "        outputs = model(input_ids=input_ids, attention_mask=attention_mask, pixel_values=pixel_values)\n",
    "        loss = criterion(outputs, labels)\n",
    "        loss.backward()\n",
    "        optimizer.step()\n",
    "\n",
    "        total_loss += loss.item()\n",
    "        preds = torch.argmax(outputs, dim=1)\n",
    "        all_preds.extend(preds.cpu().numpy())\n",
    "        all_labels.extend(labels.cpu().numpy())\n",
    "\n",
    "    train_accuracy = accuracy_score(all_labels, all_preds)\n",
    "    epoch_accuracies.append(train_accuracy)\n",
    "    print(f\"Epoch {epoch + 1}/{num_epochs}, Training Loss: {total_loss:.4f}, Training Accuracy: {train_accuracy:.4f}\")\n",
    "\n",
    "    # Validation phase\n",
    "    model.eval()\n",
    "    val_preds = []\n",
    "    val_labels = []\n",
    "\n",
    "    with torch.no_grad():\n",
    "        for batch in validation_dataloader:\n",
    "            input_ids = batch[\"input_ids\"].to(device)\n",
    "            attention_mask = batch[\"attention_mask\"].to(device)\n",
    "            pixel_values = batch[\"pixel_values\"].to(device)\n",
    "            labels = batch[\"label\"].to(device)\n",
    "\n",
    "            outputs = model(input_ids=input_ids, attention_mask=attention_mask, pixel_values=pixel_values)\n",
    "            preds = torch.argmax(outputs, dim=1)\n",
    "            val_preds.extend(preds.cpu().numpy())\n",
    "            val_labels.extend(labels.cpu().numpy())\n",
    "\n",
    "    val_accuracy = accuracy_score(val_labels, val_preds)\n",
    "    validation_accuracies.append(val_accuracy)\n",
    "    print(f\"Epoch {epoch + 1}/{num_epochs}, Validation Accuracy: {val_accuracy:.4f}\")\n",
    "\n",
    "# Plot training and validation accuracy per epoch\n",
    "plt.figure(figsize=(8, 6))\n",
    "plt.plot(range(1, num_epochs + 1), epoch_accuracies, marker='o', label='Training Accuracy')\n",
    "plt.plot(range(1, num_epochs + 1), validation_accuracies, marker='s', label='Validation Accuracy')\n",
    "plt.title(\"Accuracy per Epoch\")\n",
    "plt.xlabel(\"Epoch\")\n",
    "plt.ylabel(\"Accuracy\")\n",
    "plt.xticks(range(1, num_epochs + 1))\n",
    "plt.grid()\n",
    "plt.legend()\n",
    "plt.show()\n"
   ]
  },
  {
   "cell_type": "code",
   "execution_count": 11,
   "metadata": {},
   "outputs": [
    {
     "name": "stderr",
     "output_type": "stream",
     "text": [
      "c:\\Users\\Aman\\AppData\\Local\\Programs\\Python\\Python312\\Lib\\site-packages\\PIL\\Image.py:1056: UserWarning: Palette images with Transparency expressed in bytes should be converted to RGBA images\n",
      "  warnings.warn(\n"
     ]
    },
    {
     "name": "stdout",
     "output_type": "stream",
     "text": [
      "Test Accuracy: 0.8996\n",
      "Classification Report:\n",
      "                  precision    recall  f1-score   support\n",
      "\n",
      "Non-Informative       0.84      0.87      0.85       504\n",
      "    Informative       0.93      0.92      0.92      1030\n",
      "\n",
      "       accuracy                           0.90      1534\n",
      "      macro avg       0.88      0.89      0.89      1534\n",
      "   weighted avg       0.90      0.90      0.90      1534\n",
      "\n"
     ]
    },
    {
     "data": {
      "image/png": "[encoded data removed]",
      "text/plain": [
       "<Figure size 800x600 with 2 Axes>"
      ]
     },
     "metadata": {},
     "output_type": "display_data"
    }
   ],
   "source": [
    "import torch\n",
    "from sklearn.metrics import classification_report, accuracy_score, confusion_matrix\n",
    "import seaborn as sns\n",
    "import matplotlib.pyplot as plt\n",
    "import pandas as pd\n",
    "\n",
    "# Load the test data\n",
    "test_file_path = 'crisismmd_datasplit_all/crisismmd_datasplit_all/task_informative_text_img_test.tsv'\n",
    "test_data = pd.read_csv(test_file_path, delimiter='\\t')\n",
    "\n",
    "# Filter data to include only rows where label_text_image is 'Positive'\n",
    "test_data = test_data[test_data['label_text_image'] == 'Positive']\n",
    "\n",
    "# Select only the relevant columns\n",
    "test_data = test_data[['tweet_text', 'image', 'label']]\n",
    "\n",
    "# Create a dataset and dataloader for testing\n",
    "test_dataset = MultimodalDataset(test_data, tokenizer, feature_extractor, image_dir)\n",
    "test_dataloader = DataLoader(test_dataset, batch_size=8, shuffle=False)\n",
    "\n",
    "# Function to evaluate the model\n",
    "def evaluate_model(model, dataloader):\n",
    "    model.eval()\n",
    "    all_preds = []\n",
    "    all_labels = []\n",
    "\n",
    "    with torch.no_grad():\n",
    "        for batch in dataloader:\n",
    "            input_ids = batch[\"input_ids\"].to(device)\n",
    "            attention_mask = batch[\"attention_mask\"].to(device)\n",
    "            pixel_values = batch[\"pixel_values\"].to(device)\n",
    "            labels = batch[\"label\"].to(device)\n",
    "\n",
    "            outputs = model(input_ids=input_ids, attention_mask=attention_mask, pixel_values=pixel_values)\n",
    "            preds = torch.argmax(outputs, dim=1)\n",
    "\n",
    "            all_preds.extend(preds.cpu().numpy())\n",
    "            all_labels.extend(labels.cpu().numpy())\n",
    "\n",
    "    return all_preds, all_labels\n",
    "\n",
    "# Evaluate the model on the test set\n",
    "preds, labels = evaluate_model(model, test_dataloader)\n",
    "\n",
    "# Compute metrics\n",
    "accuracy = accuracy_score(labels, preds)\n",
    "report = classification_report(labels, preds, target_names=['Non-Informative', 'Informative'])\n",
    "conf_matrix = confusion_matrix(labels, preds)\n",
    "\n",
    "# Print the results\n",
    "print(f\"Test Accuracy: {accuracy:.4f}\")\n",
    "print(\"Classification Report:\\n\", report)\n",
    "\n",
    "# Plot the confusion matrix\n",
    "plt.figure(figsize=(8, 6))\n",
    "sns.heatmap(conf_matrix, annot=True, fmt='d', cmap='Blues', xticklabels=['Non-Informative', 'Informative'], yticklabels=['Non-Informative', 'Informative'])\n",
    "plt.xlabel('Predicted Labels')\n",
    "plt.ylabel('True Labels')\n",
    "plt.title('Confusion Matrix')\n",
    "plt.show()\n"
   ]
  }
 ],
 "metadata": {
  "kernelspec": {
   "display_name": "Python 3",
   "language": "python",
   "name": "python3"
  },
  "language_info": {
   "codemirror_mode": {
    "name": "ipython",
    "version": 3
   },
   "file_extension": ".py",
   "mimetype": "text/x-python",
   "name": "python",
   "nbconvert_exporter": "python",
   "pygments_lexer": "ipython3",
   "version": "3.12.5"
  }
 },
 "nbformat": 4,
 "nbformat_minor": 2
}
